{
 "cells": [
  {
   "cell_type": "markdown",
   "id": "a2b3a494",
   "metadata": {},
   "source": [
    "Advance Excel Assignment 1"
   ]
  },
  {
   "cell_type": "markdown",
   "id": "9f68f8ef",
   "metadata": {},
   "source": [
    "1. What do you mean by cells in an excel sheet?\n",
    "Answer - Cells are the basic building blocks of Excel Worksheet. Excel worksheets are made up of thousands of rectangles called as Cells. A cell is the intersection of a row and a column. Each cell has its own cell address based on its colimn and rows. Columns are identified by letters while rows are identified by numbers. Cells may contain labels, numbers, formulas or functions."
   ]
  },
  {
   "cell_type": "markdown",
   "id": "b3358786",
   "metadata": {},
   "source": [
    "2. How can you restrict someone from copying a cell from your worksheet?\n",
    "Answer - Open the worksheet that you want to protect. Select a black cell. Then go to Review tab, select Protect Sheet, enter the Password to protect sheet. Uncheck \"Select locked cell\" and \"Select unlocked cell\". Click on OK. Then reenter password and again click on OK. Now no one will bw able to copy from worksheet."
   ]
  },
  {
   "cell_type": "markdown",
   "id": "7d72b05f",
   "metadata": {},
   "source": [
    "3. How to move or copy the worksheet into another workbook?\n",
    "Answer - To move or copy the worksheet into another workbook, select the entire data we want to move or copy by right click on mouse and select copy or by pressing ctrl+c or by going to Home in Ribbon and select copy in clipboard. Then open another workbook where we want to copy the data, select cell and right click on mouse and select paste or go to Home in Ribbon and select paste in clipboard or by pressing the shortcut key ctrl+v."
   ]
  },
  {
   "cell_type": "markdown",
   "id": "89167aa1",
   "metadata": {},
   "source": [
    "4. Which key is used as a shortcut for opening a new window document?\n",
    "Answer - Key is used as a shortcut for opening a new window document is Ctrl+N."
   ]
  },
  {
   "cell_type": "markdown",
   "id": "a8f313db",
   "metadata": {},
   "source": [
    "5. What are the things that we can notice after opening the Excel interface?\n",
    "Answer - The things that we can notice after opening the Excel interface are 1. Office Button 2. Quick Access Tool Bar 3. Title Bar 4. Ribbon 5. Name Box 6. Formula Bar 6. Cells 7. Column 8. Rows 9. Work Sheet Navigation 10. Work Sheets 11. Status Bar 12. Tabbed Page Review"
   ]
  },
  {
   "cell_type": "markdown",
   "id": "671d6b4d",
   "metadata": {},
   "source": [
    "6. When to use a relative cell reference in excel?\n",
    "Answer - Relative reference is a type of cell reference in Excel. This reference changes when the formula is copied to any other cell. Relative cell reference are used whenever calculations need to be repeated. EX. If you copy the formula =A1+B1+C1 from Row 1 to Row 2, the formula for Row 2 becomes =A2+B2+C2"
   ]
  }
 ],
 "metadata": {
  "kernelspec": {
   "display_name": "Python 3 (ipykernel)",
   "language": "python",
   "name": "python3"
  },
  "language_info": {
   "codemirror_mode": {
    "name": "ipython",
    "version": 3
   },
   "file_extension": ".py",
   "mimetype": "text/x-python",
   "name": "python",
   "nbconvert_exporter": "python",
   "pygments_lexer": "ipython3",
   "version": "3.9.12"
  }
 },
 "nbformat": 4,
 "nbformat_minor": 5
}
